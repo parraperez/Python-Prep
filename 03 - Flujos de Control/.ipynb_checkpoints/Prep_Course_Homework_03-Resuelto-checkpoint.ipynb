{
 "cells": [
  {
   "cell_type": "markdown",
   "metadata": {},
   "source": [
    "## Flujos de Control"
   ]
  },
  {
   "cell_type": "markdown",
   "metadata": {},
   "source": [
    "1) Crear una variable que contenga un elemento del conjunto de números enteros y luego imprimir por pantalla si es mayor o menor a cero"
   ]
  },
  {
   "cell_type": "code",
   "execution_count": 5,
   "metadata": {},
   "outputs": [
    {
     "name": "stdout",
     "output_type": "stream",
     "text": [
      "mayor que 0\n"
     ]
    }
   ],
   "source": [
    "var = 0\n",
    "if (var>=0):\n",
    "    print (\"mayor que 0\")\n",
    "else:\n",
    "    print(\"menor que 0\")\n"
   ]
  },
  {
   "cell_type": "markdown",
   "metadata": {},
   "source": [
    "2) Crear dos variables y un condicional que informe si son del mismo tipo de dato"
   ]
  },
  {
   "cell_type": "code",
   "execution_count": 11,
   "metadata": {},
   "outputs": [
    {
     "name": "stdout",
     "output_type": "stream",
     "text": [
      "mismo tipo\n"
     ]
    }
   ],
   "source": [
    "var1= 7.8\n",
    "var2= 1.4\n",
    "\n",
    "if (type(var1)==type(var2)):\n",
    "    print(\"mismo tipo\")\n",
    "else:\n",
    "    print(\"Tipo diferente\")"
   ]
  },
  {
   "cell_type": "markdown",
   "metadata": {},
   "source": [
    "3) Para los valores enteros del 1 al 20, imprimir por pantalla si es par o impar"
   ]
  },
  {
   "cell_type": "code",
   "execution_count": 17,
   "metadata": {},
   "outputs": [
    {
     "name": "stdout",
     "output_type": "stream",
     "text": [
      "1 es un numero impar\n",
      "2 es un numero par\n",
      "3 es un numero impar\n",
      "4 es un numero par\n",
      "5 es un numero impar\n",
      "6 es un numero par\n",
      "7 es un numero impar\n",
      "8 es un numero par\n",
      "9 es un numero impar\n",
      "10 es un numero par\n",
      "11 es un numero impar\n",
      "12 es un numero par\n",
      "13 es un numero impar\n",
      "14 es un numero par\n",
      "15 es un numero impar\n",
      "16 es un numero par\n",
      "17 es un numero impar\n",
      "18 es un numero par\n",
      "19 es un numero impar\n",
      "20 es un numero par\n"
     ]
    }
   ],
   "source": [
    "\n",
    "for numero in range (1,21):\n",
    "    if (numero%2!=0):\n",
    "        print (numero, \"es un numero impar\")\n",
    "    else:\n",
    "        print(numero, \"es un numero par\")\n",
    "\n",
    "\n"
   ]
  },
  {
   "cell_type": "markdown",
   "metadata": {},
   "source": [
    "4) En un ciclo for mostrar para los valores entre 0 y 5 el resultado de elevarlo a la potencia igual a 3"
   ]
  },
  {
   "cell_type": "code",
   "execution_count": 19,
   "metadata": {},
   "outputs": [
    {
     "name": "stdout",
     "output_type": "stream",
     "text": [
      "0\n",
      "1\n",
      "8\n",
      "27\n",
      "64\n",
      "125\n"
     ]
    }
   ],
   "source": [
    "for valor in range (0,6):\n",
    "    valor = valor**3\n",
    "    print(valor)\n",
    "    "
   ]
  },
  {
   "cell_type": "markdown",
   "metadata": {},
   "source": [
    "5) Crear una variable que contenga un número entero y realizar un ciclo for la misma cantidad de ciclos"
   ]
  },
  {
   "cell_type": "code",
   "execution_count": 22,
   "metadata": {},
   "outputs": [
    {
     "name": "stdout",
     "output_type": "stream",
     "text": [
      "1\n",
      "2\n",
      "3\n",
      "4\n",
      "5\n"
     ]
    }
   ],
   "source": [
    "var4=5\n",
    "inicial=1\n",
    "for inicial in range(1,var4+1):\n",
    "    print(inicial)"
   ]
  },
  {
   "cell_type": "markdown",
   "metadata": {},
   "source": [
    "6) Utilizar un ciclo while para realizar el factoreo de un número guardado en una variable, sólo si la variable contiene un número entero mayor a 0"
   ]
  },
  {
   "cell_type": "code",
   "execution_count": 31,
   "metadata": {},
   "outputs": [
    {
     "name": "stdout",
     "output_type": "stream",
     "text": [
      "el factorial es: 2\n"
     ]
    }
   ],
   "source": [
    "numero1= 2\n",
    "factor = numero1\n",
    "if (type (numero1)== int):\n",
    "    if (numero1>0):\n",
    "        while (numero1>1):\n",
    "             numero1= numero1-1\n",
    "             factor= factor * numero1\n",
    "        print (\"el factorial es:\",factor)\n",
    "    else:\n",
    "        print (\"numero menor que 0\")\n",
    "else:\n",
    "    print (\"no es entero\")"
   ]
  },
  {
   "cell_type": "markdown",
   "metadata": {},
   "source": [
    "7) Crear un ciclo for dentro de un ciclo while"
   ]
  },
  {
   "cell_type": "code",
   "execution_count": 38,
   "metadata": {},
   "outputs": [
    {
     "name": "stdout",
     "output_type": "stream",
     "text": [
      "este es el valor: 1\n",
      "este es el valor: 2\n",
      "este es el valor: 3\n",
      "este es el valor: 4\n",
      "este es el valor: 5\n",
      "este es el valor: 6\n",
      "este es el valor: 7\n"
     ]
    }
   ],
   "source": [
    "numero2= 7\n",
    "valor=1\n",
    "while (numero2>0):\n",
    "    for valor in range (1,numero2+1):\n",
    "        print (\"este es el valor:\", valor)\n",
    "        numero2=numero2-1"
   ]
  },
  {
   "cell_type": "markdown",
   "metadata": {},
   "source": [
    "8) Crear un ciclo while dentro de un ciclo for"
   ]
  },
  {
   "cell_type": "code",
   "execution_count": 53,
   "metadata": {},
   "outputs": [
    {
     "name": "stdout",
     "output_type": "stream",
     "text": [
      "imprimo  1   4  veces\n",
      "imprimo  1   3  veces\n",
      "imprimo  1   2  veces\n",
      "imprimo  1   1  veces\n",
      " es menor que 0\n"
     ]
    }
   ],
   "source": [
    "numero5=4\n",
    "for numero4 in range (1,numero5+1):\n",
    "    while (numero5>0):\n",
    "        numero5 -= 1\n",
    "        print (\"imprimo \", numero4, \" \", numero5+1, \" veces\")\n",
    "print (\" es menor que 0\")"
   ]
  },
  {
   "cell_type": "markdown",
   "metadata": {},
   "source": [
    "9) Imprimir los números primos existentes entre 0 y 30"
   ]
  },
  {
   "cell_type": "code",
   "execution_count": null,
   "metadata": {},
   "outputs": [],
   "source": [
    "acumulador=0\n",
    "mayor=31\n",
    "for i in range (1,31):\n",
    "    for j in range (1, i):\n",
    "\n",
    "        while (acumulador<=2)\n",
    "            if (primo%i==0):\n",
    "                acumulador=acumulador +1\n",
    "\n",
    "        \n",
    "        print (\"numero primo\")\n",
    "    elif (i<31):\n",
    "        "
   ]
  },
  {
   "cell_type": "markdown",
   "metadata": {},
   "source": [
    "10) ¿Se puede mejorar el proceso del punto 9? Utilizar las sentencias break y/ó continue para tal fin"
   ]
  },
  {
   "cell_type": "markdown",
   "metadata": {},
   "source": [
    "11) En los puntos 9 y 10, se diseño un código que encuentra números primos y además se lo optimizó. ¿Es posible saber en qué medida se optimizó?"
   ]
  },
  {
   "cell_type": "markdown",
   "metadata": {},
   "source": [
    "12) Si la cantidad de números que se evalúa es mayor a treinta, esa optimización crece?"
   ]
  },
  {
   "cell_type": "markdown",
   "metadata": {},
   "source": [
    "13) Aplicando continue, armar un ciclo while que solo imprima los valores divisibles por 12, dentro del rango de números de 100 a 300"
   ]
  },
  {
   "cell_type": "markdown",
   "metadata": {},
   "source": [
    "14) Utilizar la función **input()** que permite hacer ingresos por teclado, para encontrar números primos y dar la opción al usario de buscar el siguiente"
   ]
  },
  {
   "cell_type": "markdown",
   "metadata": {},
   "source": [
    "15) Crear un ciclo while que encuentre dentro del rango de 100 a 300 el primer número divisible por 3 y además múltiplo de 6"
   ]
  }
 ],
 "metadata": {
  "interpreter": {
   "hash": "c85384e4cb51c8b72350f3a8712cc8351fdc3955e32a27f9b60c6242ab125f01"
  },
  "kernelspec": {
   "display_name": "Python 3.9.7 64-bit ('henry': conda)",
   "language": "python",
   "name": "python3"
  },
  "language_info": {
   "codemirror_mode": {
    "name": "ipython",
    "version": 3
   },
   "file_extension": ".py",
   "mimetype": "text/x-python",
   "name": "python",
   "nbconvert_exporter": "python",
   "pygments_lexer": "ipython3",
   "version": "3.10.4"
  }
 },
 "nbformat": 4,
 "nbformat_minor": 2
}
